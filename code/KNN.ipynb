{
 "cells": [
  {
   "cell_type": "code",
   "execution_count": 144,
   "metadata": {},
   "outputs": [],
   "source": [
    "# Starting code for UVA CS 4501 Machine Learning- KNN\n",
    "\n",
    "__author__ = 'yl7sr'\n",
    "import numpy as np\n",
    "np.random.seed(37)\n",
    "# for plot\n",
    "import matplotlib.pyplot as plt\n",
    "#more imports\n",
    "from sklearn.neighbors import KNeighborsClassifier\n",
    "## the only purpose of the above import is in case that you want to compare your knn with sklearn knn"
   ]
  },
  {
   "cell_type": "code",
   "execution_count": 143,
   "metadata": {},
   "outputs": [
    {
     "name": "stdout",
     "output_type": "stream",
     "text": [
      "1 0.575\n",
      "3 0.599\n"
     ]
    },
    {
     "data": {
      "image/png": "[encoded data removed]",
      "text/plain": [
       "<Figure size 432x288 with 1 Axes>"
      ]
     },
     "metadata": {
      "needs_background": "light"
     },
     "output_type": "display_data"
    },
    {
     "data": {
      "text/plain": [
       "3"
      ]
     },
     "execution_count": 143,
     "metadata": {},
     "output_type": "execute_result"
    }
   ],
   "source": [
    "x,y = read_file('../data/Movie_Review_Data.txt')\n",
    "# print(x.shape,y.shape)\n",
    "# x_train, y_train, x_test, y_test = fold(x,y,2,4)\n",
    "# print(np.sum(y_test),y_train.shape)\n",
    "# print(x_test.shape,x_train.shape)\n",
    "# y_predict = classify(x_train, y_train, x_test, 3)\n",
    "# calc_accuracy(y_predict, y_test)\n",
    "# print(y_train)\n",
    "findBestK(x, y, [3,5,7,9,11,13], nfolds=4)"
   ]
  },
  {
   "cell_type": "code",
   "execution_count": 148,
   "metadata": {},
   "outputs": [],
   "source": [
    "# Load file into np arrays\n",
    "# x is the features\n",
    "# y is the labels\n",
    "def read_file(file):\n",
    "    data = np.loadtxt(file, skiprows=1)\n",
    "    np.random.shuffle(data)\n",
    "    x = data[:, :-1]\n",
    "    y = data[:, -1].astype(int)\n",
    "    return x, y\n",
    "\n",
    "\n",
    "# 2. Generate the i-th fold of k fold validation\n",
    "# Input:\n",
    "# x is an np array for training data\n",
    "# y is an np array for labels\n",
    "# i is an int indicating current fold\n",
    "# nfolds is the total number of cross validation folds\n",
    "def fold(x, y, i, nfolds):\n",
    "    # your code\n",
    "    width = int(x.shape[0]/nfolds)\n",
    "    x_left, x_test, x_right =  np.split(x,[i*width,(i+1)*width],axis=0)\n",
    "    y_left, y_test, y_right =  np.split(y,[i*width,(i+1)*width],axis=0)\n",
    "    x_train = np.concatenate((x_left,x_right), axis = 0)\n",
    "    y_train = np.concatenate((y_left,y_right), axis = 0)\n",
    "    return x_train, y_train, x_test, y_test\n",
    "\n",
    "\n",
    "# 3. Classify each testing points based on the training points\n",
    "# Input\n",
    "# x_train: a numpy array of training data \n",
    "# x_test: a numpy array\n",
    "# k: the number of neighbors to take into account when predicting the label\n",
    "# Output\n",
    "# y_predict: a numpy array \n",
    "def classify(x_train, y_train, x_test, k):\n",
    "    # your code\n",
    "    # Euclidean distance as the measurement of distance in KNN\n",
    "    # Build the distance matrix\n",
    "    y_predict = np.zeros((len(x_test)),dtype = int)\n",
    "    for i in range(len(x_test)):\n",
    "        dis_line = np.zeros((len(x_train)),dtype=float)\n",
    "        for j in range(len(x_train)):\n",
    "            dis_line[j] = distance(x_test[i],x_train[j])\n",
    "        dis_line = np.concatenate((dis_line.reshape(-1,1),y_train.reshape(-1,1)),axis=1)\n",
    "        copy = dis_line.copy()\n",
    "        #sort the 2d array by the first cloumn\n",
    "        copy = copy[copy[:,0].argsort()]\n",
    "        vote = 0\n",
    "        for j in range(k):\n",
    "            if copy[j][1] == 1:\n",
    "                vote += 1\n",
    "            else:\n",
    "                vote -= 1\n",
    "        y_predict[i] = int(vote > 0)\n",
    "#     print(y_predict)\n",
    "    return y_predict\n",
    "\n",
    "def distance(p1, p2):\n",
    "    return np.sqrt(np.sum(np.power(p1-p2,2)))\n",
    "\n",
    "# 4. Calculate accuracy by comaring with true labels\n",
    "# Input\n",
    "# y_predict is a numpy array of 1s and 0s for the class prediction\n",
    "# y is a numpy array of 1s and 0s for the true class label\n",
    "def calc_accuracy(y_predict, y):\n",
    "    # your code\n",
    "    total = y_predict.shape[0]\n",
    "    correct = 0\n",
    "    for i in range(total):\n",
    "        if y_predict[i] == y[i]: correct += 1\n",
    "    acc = float(correct/total)\n",
    "    return acc\n",
    "\n",
    "# 1. Find the best K\n",
    "def findBestK(x, y, klist, nfolds):\n",
    "    kbest = 0\n",
    "    best_acc = 0\n",
    "    accuracy_list = []\n",
    "    for k in klist:\n",
    "        # your code here\n",
    "        # to get nfolds cross validation accuracy for k neighbors\n",
    "        # implement fold(x, y, i, nfolds),classify(x_train, y_train, x_test, k) and calc_accuracy(y_predict, y)\n",
    "        accuracy = 0.0\n",
    "        for i in range(nfolds):\n",
    "            x_train, y_train, x_test, y_test = fold(x,y,i,nfolds)\n",
    "            y_predict = classify(x_train, y_train, x_test, k)\n",
    "            accuracy += calc_accuracy(y_predict, y_test)\n",
    "        accuracy /= nfolds # CROSS VALIDATION accuracy for k neighbors\n",
    "        if accuracy > best_acc:\n",
    "            kbest = k\n",
    "            best_acc = accuracy\n",
    "        accuracy_list.append(accuracy)\n",
    "        print(k, accuracy)\n",
    "    # plot cross validation error for each k : implement function barplot(klist, accuracy_list)\n",
    "    barplot(klist, accuracy_list)\n",
    "    return kbest\n",
    "\n",
    "# 5. Draw the bar plot of k vs. accuracy\n",
    "# klist: a list of values of ks\n",
    "# accuracy_list: a list of accuracies\n",
    "def barplot(klist, accuracy_list):\n",
    "    # your code\n",
    "    # use matplot lib to generate bar plot with K on x axis and cross validation accuracy on y-axis\n",
    "#     fig, ax = plt.subplots()\n",
    "    plt.bar(klist, accuracy_list,width = 0.35)\n",
    "#     plt.xticks(klist, ('Bill', 'Fred', 'Mary', 'Sue'))\n",
    "    plt.show()\n",
    "    return"
   ]
  },
  {
   "cell_type": "code",
   "execution_count": 149,
   "metadata": {},
   "outputs": [
    {
     "name": "stdout",
     "output_type": "stream",
     "text": [
      "3 0.6004999999999999\n",
      "5 0.6094999999999999\n",
      "7 0.624\n",
      "9 0.6075\n",
      "11 0.6115\n",
      "13 0.616\n"
     ]
    },
    {
     "data": {
      "image/png": "[encoded data removed]",
      "text/plain": [
       "<Figure size 432x288 with 1 Axes>"
      ]
     },
     "metadata": {
      "needs_background": "light"
     },
     "output_type": "display_data"
    },
    {
     "name": "stdout",
     "output_type": "stream",
     "text": [
      "Best K is:  7\n"
     ]
    }
   ],
   "source": [
    "\n",
    "if __name__ == \"__main__\":\n",
    "    filename = \"Movie_Review_Data.txt\"\n",
    "    # read data\n",
    "    x, y = read_file('../data/'+filename)\n",
    "    nfolds = 4\n",
    "    klist = [3, 5, 7, 9, 11, 13]\n",
    "    # Implementation covers two tasks, both part of findBestK function\n",
    "    # Task 1 : implement kNN classifier for a given x,y,k \n",
    "    # Task 2 : implement 4 fold cross validation to select best k from klist\n",
    "     \n",
    "    bestk = findBestK(x, y, klist, nfolds)\n",
    "    # report best k, and accuracy, discuss why some k work better than others\n",
    "    print(\"Best K is: \", bestk)\n"
   ]
  }
 ],
 "metadata": {
  "kernelspec": {
   "display_name": "ml3.7",
   "language": "python",
   "name": "ml3.7"
  },
  "language_info": {
   "codemirror_mode": {
    "name": "ipython",
    "version": 3
   },
   "file_extension": ".py",
   "mimetype": "text/x-python",
   "name": "python",
   "nbconvert_exporter": "python",
   "pygments_lexer": "ipython3",
   "version": "3.7.4"
  }
 },
 "nbformat": 4,
 "nbformat_minor": 2
}
